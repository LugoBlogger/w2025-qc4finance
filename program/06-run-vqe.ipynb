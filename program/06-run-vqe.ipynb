{
 "cells": [
  {
   "cell_type": "markdown",
   "id": "277fbcd8",
   "metadata": {},
   "source": [
    "Logs \n",
    "- [2025/08/09]     \n",
    "  Apply VQE to solve portfolio optimization problem"
   ]
  },
  {
   "cell_type": "code",
   "execution_count": null,
   "id": "089d7aac",
   "metadata": {},
   "outputs": [],
   "source": [
    "imp"
   ]
  },
  {
   "cell_type": "markdown",
   "id": "29638735",
   "metadata": {},
   "source": [
    "Objective \n",
    "$$\n",
    "  \\argmin_{y_{\\ell, i}} \\sum_{\\ell \\in L} \\sum_{i \\in \\mathbb{K}_\\ell} \\gamma_{\\ell, i} y_{\\ell, i}\n",
    "  + \\frac{1}{2}\n",
    "    \\left(\\sum_{\\ell\\in L} \\sum_{i \\in \\mathbb{K}_\\ell} \\sum_{j \\in \\mathbb{K}_\\ell} \n",
    "    (\\alpha_{\\ell,i} y_{\\ell,i}) (\\alpha_{\\ell, j} y_{\\ell,j}) \\right)\n",
    "  + C\n",
    "$$\n",
    "\n",
    "$$\n",
    "  = \\argmin_{y_{\\ell, i}}\n",
    "    \\sum_{\\ell \\in L} \\sum_{i \\in \\mathbb{K}_\\ell} \\gamma_{\\ell, i} y_{\\ell, i}\n",
    "  + \n",
    "  \\frac{1}{2} \\left(\\sum_{\\ell \\in L} \\sum_{i \\in \\mathbb{K}_\\ell} \\alpha_i^2 y_i^2\n",
    "  + \\sum_{\\ell \\in L} \\sum_{i \\in \\mathbb{K}_\\ell} \\sum_{j \\in \\mathbb{K}_\\ell \\setminus \\{i\\}}\n",
    "    2 \\alpha_i \\alpha_j y_i y_j \\right)\n",
    "  + C\n",
    "$$"
   ]
  },
  {
   "cell_type": "markdown",
   "id": "9ea9d2b5",
   "metadata": {},
   "source": [
    "Constraints\n",
    "\n",
    "`trade_num_upper.limit`\n",
    "$$\n",
    "  \\left(\\sum_{\\ell \\in L}  \\sum_{i \\in \\mathbb{K}_\\ell} y_{\\ell, i} \\right) \\leq M\n",
    "$$"
   ]
  },
  {
   "cell_type": "markdown",
   "id": "a98f75e9",
   "metadata": {},
   "source": [
    "`limit_sodraw.filterLevel1_sodraw.filterLevel3_#_fund_enriched.pmv`\n",
    "\n",
    "$$\n",
    "  K_{\\ell}^\\text{min} \\leq \n",
    "    \\sum_{i \\in \\mathbb{K}_{\\ell}} \\beta_{\\ell, i} y_{\\ell, i}\n",
    "    \\leq K_{\\ell}^\\text{max}, \\qquad \\forall \\ell \\in L\n",
    "$$"
   ]
  },
  {
   "cell_type": "markdown",
   "id": "d0f4cc18",
   "metadata": {},
   "source": [
    "`limt_sodrtaw.filterLevel1_sodraw.filterLevel3_#_fund_enriched.dxsCtr`\n",
    "\n",
    "$$\n",
    "  O_{\\ell}^\\text{min} \\leq \n",
    "    \\sum_{i \\in \\mathbb{K}_{\\ell}} \\varepsilon_{\\ell, i} y_{\\ell, i}\n",
    "    \\leq O_{\\ell}^\\text{max}, \\qquad \\forall \\ell \\in L\n",
    "$$"
   ]
  },
  {
   "cell_type": "markdown",
   "id": "df9357d3",
   "metadata": {},
   "source": [
    "`low_cnstr_cash`\n",
    "\n",
    "$$\n",
    "  P^\\text{min} \\leq \\sum_{\\ell \\in L}  \\sum_{i \\in \\mathbb{K}_\\ell}\n",
    "    \\beta_{\\ell, i} y_{\\ell, i} \\leq P^\\text{max}\n",
    "$$"
   ]
  },
  {
   "cell_type": "markdown",
   "id": "72b1bc88",
   "metadata": {},
   "source": [
    "$y_{\\ell, i}$ are binary variables"
   ]
  },
  {
   "cell_type": "markdown",
   "id": "d435fe15",
   "metadata": {},
   "source": [
    "$$\n",
    "\\begin{align*}\n",
    "  L &= \\{1, 2, 3\\}  \\\\\n",
    "    &= \\{\\text{Capital Goods}, \\text{Insurance}, \\text{Transporation}\\}\n",
    "\\end{align*}\n",
    "$$"
   ]
  },
  {
   "cell_type": "markdown",
   "id": "0374cc52",
   "metadata": {},
   "source": [
    "$$\n",
    "  \\mathbb{K}_{\\ell}\n",
    "  = \\begin{cases}\n",
    "      \\begin{aligned}\n",
    "      \\mathbb{K}_1 &= \\{1, 2, 3, \\ldots, 12\\} \n",
    "        = \\left\\{\n",
    "        \\begin{array}{l}\n",
    "        \\texttt{020002BJ9}, \\texttt{026874DS3}, \\texttt{15135BAW1}, \n",
    "        \\texttt{21871XAS8}, \\texttt{444859BR2}, \\\\ \\texttt{444859BV3}, \n",
    "        \\texttt{444859BY7}, \\texttt{444859CA8}, \\texttt{540424AT5}, \n",
    "        \\texttt{56501RAN6}, \\\\ \\texttt{759351AP4}, \\texttt{91324PEJ7} \n",
    "        \\end{array}\n",
    "        \\right\\},\n",
    "      \\end{aligned} \\\\[16pt]\n",
    "      \\mathbb{K}_2 = \\{1, 2, 3, \\ldots, 13\\}\n",
    "        = \\left\\{\n",
    "        \\begin{array}{l}\n",
    "          \\texttt{081437AT2}, \\texttt{097023CJ2}, \\texttt{14448CBC7}, \n",
    "          \\texttt{24422EWZ8}, \\texttt{24422EXP9}, \\\\ \\texttt{36166NAK9}, \n",
    "          \\texttt{438516CM6}, \\texttt{443201AC2}, \\texttt{45687VAB2}, \n",
    "          \\texttt{539830CD9}, \\\\ \\texttt{75513EAD3}, \\texttt{760759BA7}, \n",
    "          \\texttt{760759BC3}\n",
    "        \\end{array}\n",
    "        \\right\\}, \\\\[16pt]\n",
    "      \\mathbb{K}_3 = \\{1, 2, 3, \\ldots, 6\\}\n",
    "        = \\left\\{\n",
    "        \\begin{array}{l}\n",
    "          \\texttt{13645RAD6}, \\texttt{13645RBF0}, \\texttt{314353AA1}, \n",
    "          \\texttt{655844CR7}, \\texttt{655844CT3}, \\\\ \\texttt{907818FX1}\n",
    "        \\end{array}\n",
    "        \\right\\}\n",
    "    \\end{cases}\n",
    "$$"
   ]
  },
  {
   "cell_type": "markdown",
   "id": "23cb7fef",
   "metadata": {},
   "source": [
    "$$\n",
    "  M = \\texttt{trade\\_num\\_upper\\_limit} = 500\n",
    "$$"
   ]
  }
 ],
 "metadata": {
  "kernelspec": {
   "display_name": "womanium2025project",
   "language": "python",
   "name": "python3"
  },
  "language_info": {
   "name": "python",
   "version": "3.12.11"
  }
 },
 "nbformat": 4,
 "nbformat_minor": 5
}
