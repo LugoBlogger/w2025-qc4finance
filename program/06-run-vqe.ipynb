{
 "cells": [
  {
   "cell_type": "markdown",
   "id": "277fbcd8",
   "metadata": {},
   "source": [
    "Logs \n",
    "- [2025/08/09]     \n",
    "  Apply VQE to solve portfolio optimization problem"
   ]
  },
  {
   "cell_type": "code",
   "execution_count": 1,
   "id": "089d7aac",
   "metadata": {},
   "outputs": [],
   "source": [
    "import json\n",
    "\n",
    "import itertools\n",
    "import pennylane as qml\n",
    "import matplotlib.pyplot as plt\n",
    "\n",
    "from pennylane import numpy as np"
   ]
  },
  {
   "cell_type": "code",
   "execution_count": 2,
   "id": "e19eb562",
   "metadata": {},
   "outputs": [],
   "source": [
    "plt.rcParams.update(plt.rcParamsDefault)\n",
    "plt.rcParams.update({\n",
    "  \"font.size\": 16,\n",
    "  \"grid.alpha\": 0.25})"
   ]
  },
  {
   "cell_type": "markdown",
   "id": "29638735",
   "metadata": {},
   "source": [
    "Objective \n",
    "$$\n",
    "  \\argmin_{y_{\\ell, i}} \\sum_{\\ell \\in L} \\sum_{i \\in \\mathbb{K}_\\ell} \\gamma_{\\ell, i} y_{\\ell, i}\n",
    "  + \\frac{1}{2}\n",
    "    \\left(\\sum_{\\ell\\in L} \\sum_{i \\in \\mathbb{K}_\\ell} \\sum_{j \\in \\mathbb{K}_\\ell} \n",
    "    (\\alpha_{\\ell,i} y_{\\ell,i}) (\\alpha_{\\ell, j} y_{\\ell,j}) \\right)\n",
    "  + C\n",
    "$$\n",
    "\n",
    "$$\n",
    "  = \\argmin_{y_{\\ell, i}}\n",
    "    \\sum_{\\ell \\in L} \\sum_{i \\in \\mathbb{K}_\\ell} \\gamma_{\\ell, i} y_{\\ell, i}\n",
    "  + \n",
    "  \\frac{1}{2} \\left(\\sum_{\\ell \\in L} \\sum_{i \\in \\mathbb{K}_\\ell} \n",
    "    \\alpha_{\\ell,i}^2 y_{\\ell, i}^2\n",
    "  + \\sum_{\\ell \\in L} \\sum_{i \\in \\mathbb{K}_\\ell} \\sum_{j \\in \\mathbb{K}_\\ell \\setminus \\{i\\}}\n",
    "    2 \\alpha_{\\ell, i} \\alpha_{\\ell, j} y_{\\ell, i} y_{\\ell, j} \\right)\n",
    "  + C\n",
    "$$"
   ]
  },
  {
   "cell_type": "markdown",
   "id": "9ea9d2b5",
   "metadata": {},
   "source": [
    "Constraints\n",
    "\n",
    "`trade_num_upper.limit`\n",
    "$$\n",
    "  \\left(\\sum_{\\ell \\in L}  \\sum_{i \\in \\mathbb{K}_\\ell} y_{\\ell, i} \\right) \\leq M\n",
    "$$"
   ]
  },
  {
   "cell_type": "markdown",
   "id": "a98f75e9",
   "metadata": {},
   "source": [
    "`limit_sodraw.filterLevel1_sodraw.filterLevel3_#_fund_enriched.pmv`\n",
    "\n",
    "$$\n",
    "  K_{\\ell}^\\text{min} \\leq \n",
    "    \\sum_{i \\in \\mathbb{K}_{\\ell}} \\beta_{\\ell, i} y_{\\ell, i}\n",
    "    \\leq K_{\\ell}^\\text{max}, \\qquad \\forall \\ell \\in L\n",
    "$$"
   ]
  },
  {
   "cell_type": "markdown",
   "id": "d0f4cc18",
   "metadata": {},
   "source": [
    "`limt_sodrtaw.filterLevel1_sodraw.filterLevel3_#_fund_enriched.dxsCtr`\n",
    "\n",
    "$$\n",
    "  O_{\\ell}^\\text{min} \\leq \n",
    "    \\sum_{i \\in \\mathbb{K}_{\\ell}} \\varepsilon_{\\ell, i} y_{\\ell, i}\n",
    "    \\leq O_{\\ell}^\\text{max}, \\qquad \\forall \\ell \\in L\n",
    "$$"
   ]
  },
  {
   "cell_type": "markdown",
   "id": "df9357d3",
   "metadata": {},
   "source": [
    "`low_cnstr_cash`\n",
    "\n",
    "$$\n",
    "  P^\\text{min} \\leq \\sum_{\\ell \\in L}  \\sum_{i \\in \\mathbb{K}_\\ell}\n",
    "    \\beta_{\\ell, i} y_{\\ell, i} \\leq P^\\text{max}\n",
    "$$"
   ]
  },
  {
   "cell_type": "markdown",
   "id": "72b1bc88",
   "metadata": {},
   "source": [
    "$y_{\\ell, i}$ are binary variables"
   ]
  },
  {
   "cell_type": "markdown",
   "id": "d435fe15",
   "metadata": {},
   "source": [
    "$$\n",
    "\\begin{align*}\n",
    "  L &= \\{1, 2, 3\\}  \\\\\n",
    "    &= \\{\\text{Capital Goods}, \\text{Insurance}, \\text{Transporation}\\}\n",
    "\\end{align*}\n",
    "$$"
   ]
  },
  {
   "cell_type": "markdown",
   "id": "0374cc52",
   "metadata": {},
   "source": [
    "$$\n",
    "  \\mathbb{K}_{\\ell}\n",
    "  = \\begin{cases}\n",
    "      \\begin{aligned}\n",
    "      \\mathbb{K}_1 &= \\{1, 2, 3, \\ldots, 12\\} \n",
    "        = \\left\\{\n",
    "        \\begin{array}{l}\n",
    "        \\texttt{020002BJ9}, \\texttt{026874DS3}, \\texttt{15135BAW1}, \n",
    "        \\texttt{21871XAS8}, \\texttt{444859BR2}, \\\\ \\texttt{444859BV3}, \n",
    "        \\texttt{444859BY7}, \\texttt{444859CA8}, \\texttt{540424AT5}, \n",
    "        \\texttt{56501RAN6}, \\\\ \\texttt{759351AP4}, \\texttt{91324PEJ7} \n",
    "        \\end{array}\n",
    "        \\right\\},\n",
    "      \\end{aligned} \\\\[16pt]\n",
    "      \\mathbb{K}_2 = \\{1, 2, 3, \\ldots, 13\\}\n",
    "        = \\left\\{\n",
    "        \\begin{array}{l}\n",
    "          \\texttt{081437AT2}, \\texttt{097023CJ2}, \\texttt{14448CBC7}, \n",
    "          \\texttt{24422EWZ8}, \\texttt{24422EXP9}, \\\\ \\texttt{36166NAK9}, \n",
    "          \\texttt{438516CM6}, \\texttt{443201AC2}, \\texttt{45687VAB2}, \n",
    "          \\texttt{539830CD9}, \\\\ \\texttt{75513EAD3}, \\texttt{760759BA7}, \n",
    "          \\texttt{760759BC3}\n",
    "        \\end{array}\n",
    "        \\right\\}, \\\\[16pt]\n",
    "      \\mathbb{K}_3 = \\{1, 2, 3, \\ldots, 6\\}\n",
    "        = \\left\\{\n",
    "        \\begin{array}{l}\n",
    "          \\texttt{13645RAD6}, \\texttt{13645RBF0}, \\texttt{314353AA1}, \n",
    "          \\texttt{655844CR7}, \\texttt{655844CT3}, \\\\ \\texttt{907818FX1}\n",
    "        \\end{array}\n",
    "        \\right\\}\n",
    "    \\end{cases}\n",
    "$$"
   ]
  },
  {
   "cell_type": "markdown",
   "id": "23cb7fef",
   "metadata": {},
   "source": [
    "$$\n",
    "  M = \\texttt{trade\\_num\\_upper\\_limit} = 500\n",
    "$$"
   ]
  },
  {
   "cell_type": "markdown",
   "id": "e5fa2f7e",
   "metadata": {},
   "source": [
    "Transform the above constrained problem into unconstrained problem with\n",
    "Lagrange multipliers"
   ]
  },
  {
   "cell_type": "markdown",
   "id": "b871a408",
   "metadata": {},
   "source": [
    "$$\n",
    "\\begin{align*}\n",
    "&\\argmin_{y_{\\ell, i}}\n",
    "    \\sum_{\\ell \\in L} \\sum_{i \\in \\mathbb{K}_\\ell} \\gamma_{\\ell, i} y_{\\ell, i}\n",
    "  + \n",
    "  \\frac{1}{2} \\left(\\sum_{\\ell \\in L} \\sum_{i \\in \\mathbb{K}_\\ell} \\alpha_i^2 y_i^2\n",
    "  + \\sum_{\\ell \\in L} \\sum_{i \\in \\mathbb{K}_\\ell} \\sum_{j \\in \\mathbb{K}_\\ell \\setminus \\{i\\}}\n",
    "    2 \\alpha_i \\alpha_j y_i y_j \\right) \\\\\n",
    "  &\\qquad+\n",
    "    \\lambda_1\\left(\\sum_{\\ell \\in L}\\sum_{i \\in \\mathbb{K}_\\ell}\n",
    "      y_{\\ell, i} - M + s_1^2 \n",
    "    \\right) \\\\\n",
    "  &\\qquad+ \\lambda_2\\left( \\sum_{i \\in \\mathbb{K}_\\ell}\\beta_{1, i} y_{1, i}\n",
    "      - K_1^\\text{min} + s_2^2\n",
    "    \\right)\n",
    "    + \\lambda_3\\left( \\sum_{i \\in \\mathbb{K}_\\ell}\\beta_{2, i} y_{2, i}\n",
    "      - K_2^\\text{min} + s_3^2\n",
    "    \\right)\n",
    "    + \\lambda_4\\left( \\sum_{i \\in \\mathbb{K}_\\ell}\\beta_{3, i} y_{3, i}\n",
    "      - K_3^\\text{min} + s_4^2\n",
    "    \\right) \\\\\n",
    "  &\\qquad+ \\lambda_5\\left( \\sum_{i \\in \\mathbb{K}_\\ell}\\beta_{1, i} y_{1, i}\n",
    "      - K_1^\\text{max} + s_5^2\n",
    "    \\right)\n",
    "    + \\lambda_6\\left( \\sum_{i \\in \\mathbb{K}_\\ell}\\beta_{2, i} y_{2, i}\n",
    "      - K_2^\\text{max} + s_6^2\n",
    "    \\right)\n",
    "    + \\lambda_7\\left( \\sum_{i \\in \\mathbb{K}_\\ell}\\beta_{3, i} y_{3, i}\n",
    "      - K_3^\\text{max} + s_7^2\n",
    "    \\right) \\\\\n",
    "  &\\qquad+ \\lambda_8\\left( \\sum_{i \\in \\mathbb{K}_\\ell}\\beta_{1, i} y_{1, i}\n",
    "      - O_1^\\text{min} + s_8^2\n",
    "    \\right)\n",
    "    + \\lambda_9\\left( \\sum_{i \\in \\mathbb{K}_\\ell}\\beta_{2, i} y_{2, i}\n",
    "      - O_2^\\text{min} + s_9^2\n",
    "    \\right)\n",
    "    + \\lambda_{10}\\left( \\sum_{i \\in \\mathbb{K}_\\ell}\\beta_{3, i} y_{3, i}\n",
    "      - O_3^\\text{min} + s_{10}^2\n",
    "    \\right) \\\\\n",
    "  &\\qquad+ \\lambda_{11}\\left( \\sum_{i \\in \\mathbb{K}_\\ell}\\beta_{1, i} y_{1, i}\n",
    "      - O_1^\\text{max} + s_{11}^2\n",
    "    \\right)\n",
    "    + \\lambda_{12}\\left( \\sum_{i \\in \\mathbb{K}_\\ell}\\beta_{2, i} y_{2, i}\n",
    "      - O_2^\\text{max} + s_{12}^2\n",
    "    \\right)\n",
    "    + \\lambda_{13}\\left( \\sum_{i \\in \\mathbb{K}_\\ell}\\beta_{3, i} y_{3, i}\n",
    "      - O_3^\\text{max} + s_{13}^2\n",
    "    \\right)  \\\\\n",
    "  &\\qquad+ \\lambda_{14}\\left(\n",
    "      \\sum_{\\ell \\in L} \\sum_{i \\in \\mathbb{K}_\\ell}\\beta_{1, i} y_{1, i}\n",
    "      - P^\\text{min} + s_{14}^2\n",
    "    \\right)\n",
    "    + \\lambda_{15}\\left( \n",
    "      \\sum_{\\ell \\in  L} \\sum_{i \\in \\mathbb{K}_\\ell}\\beta_{2, i} y_{2, i}\n",
    "      - P^\\text{min} + s_{15}^2\n",
    "    \\right)\n",
    "    + \\lambda_{16}\\left( \n",
    "        \\sum_{\\ell \\in L} \\sum_{i \\in \\mathbb{K}_\\ell}\\beta_{3, i} y_{3, i}\n",
    "      - P^\\text{min} + s_{16}^2\n",
    "    \\right) \\\\\n",
    "  &\\qquad+ \\lambda_{17}\\left(\n",
    "      \\sum_{\\ell \\in L} \\sum_{i \\in \\mathbb{K}_\\ell}\\beta_{1, i} y_{1, i}\n",
    "      - P^\\text{max} + s_{17}^2\n",
    "    \\right)\n",
    "    + \\lambda_{18}\\left( \n",
    "      \\sum_{\\ell \\in  L} \\sum_{i \\in \\mathbb{K}_\\ell}\\beta_{2, i} y_{2, i}\n",
    "      - P^\\text{max} + s_{18}^2\n",
    "    \\right)\n",
    "    + \\lambda_{19}\\left( \n",
    "        \\sum_{\\ell \\in L} \\sum_{i \\in \\mathbb{K}_\\ell}\\beta_{3, i} y_{3, i}\n",
    "      - P^\\text{max} + s_{19}^2\n",
    "    \\right) \n",
    "  + C\n",
    "\\end{align*}\n",
    "$$"
   ]
  },
  {
   "cell_type": "markdown",
   "id": "60ba046a",
   "metadata": {},
   "source": [
    "### Solve with one constraint `trade_num_upper.limit`"
   ]
  },
  {
   "cell_type": "markdown",
   "id": "0799075e",
   "metadata": {},
   "source": [
    "$$\n",
    "\\begin{align*}\n",
    "\\operatorname*{arg min}_{y_{\\ell, i}} \\,\n",
    "  \\frac{1}{2} \\left(\n",
    "  \\sum_{\\ell \\in L} \\sum_{i \\in \\mathbb{K}_\\ell} \\sum_{j \\in \\mathbb{K}_\\ell}\n",
    "     y_{\\ell, i} \\alpha_{\\ell, i} \\alpha_{\\ell, j}  y_{\\ell, j} \\right) \n",
    "  - \\sum_{\\ell \\in L} \\sum_{i \\in \\mathbb{K}_\\ell}\n",
    "        (-\\gamma_{\\ell, i} - \\lambda_1) y_{\\ell, i}\n",
    "    + \\lambda_1\\left( - M + s_1^2 \\right)\n",
    "\\end{align*}\n",
    "$$"
   ]
  },
  {
   "cell_type": "markdown",
   "id": "3c6565b0",
   "metadata": {},
   "source": [
    "use the transformation $y_{\\ell, i} = \\dfrac{1 - z_{\\ell, i}}{2}$"
   ]
  },
  {
   "cell_type": "markdown",
   "id": "a0e175e9",
   "metadata": {},
   "source": [
    "$$\n",
    "\\begin{align*}\n",
    "&= \\operatorname*{arg min}_{z_{\\ell, i} \\in \\{-1, 1\\}} \\,\n",
    "  \\sum_{\\ell \\in L} \\sum_{i \\in \\mathbb{K}_\\ell} \\sum_{j \\in \\mathbb{K}_\\ell \\setminus \\{i\\}}\n",
    "     \\frac{\\alpha_{\\ell, i} \\alpha_{\\ell, j} }{4}z_{\\ell, i}  z_{\\ell, j} \n",
    "  - \\sum_{\\ell \\in L} \\sum_{i \\in \\mathbb{K}_\\ell}\n",
    "      \\left(\n",
    "        -\\frac{1}{4}\\sum_{j \\in \\mathbb{K}_{\\ell}}\n",
    "        \\alpha_{\\ell, i} \\alpha_{\\ell, j}\n",
    "        + \\frac{(-\\gamma_{\\ell, i} - \\lambda_1)}{2}\n",
    "      \\right)z_{\\ell, i} \\\\\n",
    "  &\\qquad + \\frac{1}{8} \\sum_{\\ell \\in L} \\sum_{i \\in \\mathbb{K}_\\ell} \\sum_{j \\in \\mathbb{K}_\\ell} \n",
    "     \\alpha_{\\ell, i} \\alpha_{\\ell, j}\n",
    "    + \\frac{1}{8} \\sum_{\\ell \\in L} \\sum_{i \\in \\mathbb{K}_\\ell}  \\alpha_{\\ell, i}^2\n",
    "    + \\frac{1}{2} \\sum_{\\ell \\in L} \\sum_{i \\in \\mathbb{K}_\\ell} (-\\gamma_{\\ell, i} - \\lambda_1)\n",
    "     + \\lambda_1\\left( - M + s_1^2 \\right)\n",
    "\\end{align*}\n",
    "$$"
   ]
  },
  {
   "cell_type": "markdown",
   "id": "9629381b",
   "metadata": {},
   "source": [
    "Load the data"
   ]
  },
  {
   "cell_type": "code",
   "execution_count": 3,
   "id": "0e2262b2",
   "metadata": {},
   "outputs": [
    {
     "data": {
      "text/plain": [
       "{'var': ['020002BJ9',\n",
       "  '026874DS3',\n",
       "  '081437AT2',\n",
       "  '097023CJ2',\n",
       "  '13645RAD6',\n",
       "  '13645RBF0',\n",
       "  '14448CBC7',\n",
       "  '15135BAW1',\n",
       "  '21871XAS8',\n",
       "  '24422EWZ8',\n",
       "  '24422EXP9',\n",
       "  '314353AA1',\n",
       "  '36166NAK9',\n",
       "  '438516CM6',\n",
       "  '443201AC2',\n",
       "  '444859BR2',\n",
       "  '444859BV3',\n",
       "  '444859BY7',\n",
       "  '444859CA8',\n",
       "  '45687VAB2',\n",
       "  '539830CD9',\n",
       "  '540424AT5',\n",
       "  '56501RAN6',\n",
       "  '655844CR7',\n",
       "  '655844CT3',\n",
       "  '75513EAD3',\n",
       "  '759351AP4',\n",
       "  '760759BA7',\n",
       "  '760759BC3',\n",
       "  '907818FX1',\n",
       "  '91324PEJ7'],\n",
       " 'gamma': [-171.843480141259,\n",
       "  -209.916098093165,\n",
       "  -208.476006609091,\n",
       "  -102.658455587925,\n",
       "  -108.872687135303,\n",
       "  -59.317668233044,\n",
       "  -248.173707501463,\n",
       "  -181.705222582624,\n",
       "  -217.516328228335,\n",
       "  -150.364227654476,\n",
       "  -238.537754989087,\n",
       "  -64.315591692518,\n",
       "  -232.71668457355,\n",
       "  -231.561240438637,\n",
       "  -133.172276708478,\n",
       "  -111.860973316693,\n",
       "  -215.624770871618,\n",
       "  -216.444892837478,\n",
       "  -210.050748767208,\n",
       "  -98.56277968679,\n",
       "  -234.562738134276,\n",
       "  -195.144598835887,\n",
       "  -194.556369478498,\n",
       "  -190.182474291791,\n",
       "  -26.345955030805,\n",
       "  -188.770788790166,\n",
       "  -192.768933140209,\n",
       "  -193.225791754691,\n",
       "  -234.355342136515,\n",
       "  -85.550380002185,\n",
       "  -152.218422802645],\n",
       " 'alpha': [3.9104274961886203,\n",
       "  4.776798521546204,\n",
       "  4.233645398427341,\n",
       "  2.084745890803721,\n",
       "  9.988283313561595,\n",
       "  5.4419679664485345,\n",
       "  5.039810057108105,\n",
       "  4.134838854544152,\n",
       "  4.949747468305833,\n",
       "  3.053535180626875,\n",
       "  4.8441270781551555,\n",
       "  5.900491373983103,\n",
       "  4.725915163127137,\n",
       "  4.702450876639223,\n",
       "  2.704408078681729,\n",
       "  2.54548048868912,\n",
       "  4.906703659531417,\n",
       "  4.925366151020145,\n",
       "  4.779862598796853,\n",
       "  2.0015725812498033,\n",
       "  4.763404063119672,\n",
       "  4.440661958156689,\n",
       "  4.427276357194003,\n",
       "  17.447869474736134,\n",
       "  2.4170512360643084,\n",
       "  3.833479901682543,\n",
       "  4.386601900419846,\n",
       "  3.923950278142296,\n",
       "  4.7591923500988065,\n",
       "  7.848629950528691,\n",
       "  3.4638445721922917],\n",
       " 'C': 2237.404382444853,\n",
       " 'M': 500.0,\n",
       " 'beta': [0.460848299982,\n",
       "  0.562951104491,\n",
       "  0.498939895061,\n",
       "  0.245689659406,\n",
       "  1.177130477239,\n",
       "  0.641342075346,\n",
       "  0.593947311212,\n",
       "  0.487295432194,\n",
       "  0.583333333333,\n",
       "  0.359862572135,\n",
       "  0.570885850982,\n",
       "  0.695379577146,\n",
       "  0.556954443193,\n",
       "  0.554189150511,\n",
       "  0.318717548589,\n",
       "  0.299987752488,\n",
       "  0.578260571821,\n",
       "  0.580459967536,\n",
       "  0.563312209458,\n",
       "  0.235887590873,\n",
       "  0.561372552427,\n",
       "  0.523337030595,\n",
       "  0.521759522393,\n",
       "  2.056251137141,\n",
       "  0.284852219916,\n",
       "  0.451779939004,\n",
       "  0.516965991692,\n",
       "  0.462441975119,\n",
       "  0.560876197288,\n",
       "  0.924969910174,\n",
       "  0.408217997662],\n",
       " 'epsilon': [205.579590690186,\n",
       "  337.861841810534,\n",
       "  233.03336595062,\n",
       "  310.153535258368,\n",
       "  490.408171768948,\n",
       "  242.412768936651,\n",
       "  393.282773577898,\n",
       "  378.463515890637,\n",
       "  472.067755444785,\n",
       "  81.6096023347,\n",
       "  281.942721027528,\n",
       "  218.305897358047,\n",
       "  261.482004897843,\n",
       "  236.650806972058,\n",
       "  141.545348588576,\n",
       "  226.708183055525,\n",
       "  485.653971192128,\n",
       "  535.669575596408,\n",
       "  338.723303282001,\n",
       "  140.650233636667,\n",
       "  277.462844628398,\n",
       "  181.359952598074,\n",
       "  229.005909621042,\n",
       "  554.590425319261,\n",
       "  156.488022524534,\n",
       "  150.455920129658,\n",
       "  209.560231751803,\n",
       "  269.290318652141,\n",
       "  327.569980527203,\n",
       "  309.123485614604,\n",
       "  152.828183264363],\n",
       " 'K_min': {'Capital Goods': 4.758736462913,\n",
       "  'Insurance': 4.134392251914,\n",
       "  'Transportation': 0.240014083139},\n",
       " 'K_max': {'Capital Goods': 6.847872350911,\n",
       "  'Insurance': 6.223528139912,\n",
       "  'Transportation': 2.329149971137},\n",
       " 'O_min': {'Capital Goods': 1780.68926045072,\n",
       "  'Insurance': 1991.42972820855,\n",
       "  'Transportation': -479.881210498972},\n",
       " 'O_max': {'Capital Goods': 3869.825148448374,\n",
       "  'Insurance': 4080.565616206205,\n",
       "  'Transportation': 1609.254677498683},\n",
       " 'P_min': 2.600974180557,\n",
       " 'P_max': 10.435233760548}"
      ]
     },
     "execution_count": 3,
     "metadata": {},
     "output_type": "execute_result"
    }
   ],
   "source": [
    "with open(\"./data/1/31bonds/docplex-bin-avgonly-nocplexvars.json\", 'r') as fp:\n",
    "  bonds_data = json.load(fp) \n",
    "\n",
    "bonds_data"
   ]
  },
  {
   "cell_type": "code",
   "execution_count": 4,
   "id": "546b955a",
   "metadata": {},
   "outputs": [
    {
     "data": {
      "text/plain": [
       "500.0"
      ]
     },
     "execution_count": 4,
     "metadata": {},
     "output_type": "execute_result"
    }
   ],
   "source": [
    "bonds_data[\"M\"]"
   ]
  },
  {
   "cell_type": "code",
   "execution_count": 5,
   "id": "a7123fcf",
   "metadata": {},
   "outputs": [],
   "source": [
    "# Define parameters for the Hamiltonian\n",
    "n = 10    # number of bonds\n",
    "M = bonds_data[\"M\"]\n",
    "alpha_arr = bonds_data[\"alpha\"]\n",
    "gamma_arr = bonds_data[\"gamma\"]\n",
    "_lambda_arr = [1.]    # langrange multiplier\n",
    "_slack_arr = [5.]      # slack variable"
   ]
  },
  {
   "cell_type": "code",
   "execution_count": 6,
   "id": "f0860cea",
   "metadata": {},
   "outputs": [],
   "source": [
    "# Design the ansatz\n",
    "\n",
    "def strongly_entangling_ansatz(params, num_of_qubits):\n",
    "  \"\"\"\n",
    "  From PennyLane Codercise V.2.1 - Introduction to VQE\n",
    "  \"\"\"\n",
    "  qml.StronglyEntanglingLayers(weights=params, wires=range(num_of_qubits))"
   ]
  },
  {
   "cell_type": "code",
   "execution_count": 7,
   "id": "823a0964",
   "metadata": {},
   "outputs": [],
   "source": [
    "# Define Hamiltonian\n",
    "ZZ = [qml.PauliZ(i)@qml.PauliZ(j) for i in range(n) for j in range(i+1, n)]\n",
    "ZZ_coeff = [0.25*alpha_arr[i]*alpha_arr[j] for i in range(n) for j in range(i+1, n)]\n",
    "\n",
    "Z = [qml.PauliZ(i) for i in range(n)]\n",
    "Z_coeff = [-0.25*sum(alpha_arr[i]*alpha_arr[j] for j in range(n)) \n",
    "  + 0.5*(-gamma_arr[i] - _lambda_arr[0]) for i in range(n)]\n",
    "\n",
    "observables = ZZ + Z\n",
    "coeffs = ZZ_coeff + Z_coeff\n",
    "H = qml.Hamiltonian(coeffs, observables, grouping_type=\"qwc\")"
   ]
  },
  {
   "cell_type": "code",
   "execution_count": 18,
   "id": "56e1a8d8",
   "metadata": {},
   "outputs": [],
   "source": [
    "# dev = qml.device(\"lightning.gpu\", wires=n, batch_obs=True)   # need high memory GPU (> 20 qubits)\n",
    "dev = qml.device(\"lightning.qubit\", wires=n)    # use this\n",
    "# dev = qml.device(\"default.qubit\", wires=n)   # freezing\n",
    "\n",
    "# -- using matrix product states (need quimb module)\n",
    "# dev = qml.device(\"defaut.tensor\", method=\"mps\", max_bond_dim=50,\n",
    "#                   cutoff=np.finfo(np.complex128).eps, contrat=\"auto_mps\")\n",
    "\n",
    "\n",
    "# Set the cost function on dev\n",
    "@qml.qnode(dev, diff_method=\"parameter-shift\")\n",
    "def cost(x, n, H):\n",
    "  strongly_entangling_ansatz(x, n)\n",
    "\n",
    "  return qml.expval(H)\n",
    "\n",
    "@qml.qnode(dev)\n",
    "def probability_circuit(params, n):\n",
    "  strongly_entangling_ansatz(params, n)\n",
    "\n",
    "  return qml.probs(wires=range(n))"
   ]
  },
  {
   "cell_type": "code",
   "execution_count": 19,
   "id": "1a442153",
   "metadata": {},
   "outputs": [
    {
     "name": "stdout",
     "output_type": "stream",
     "text": [
      "0: ──Rot(0.74,0.25,0.93)─╭●─────────────────────────╭X──Rot(0.61,0.98,0.46)─╭●────────────────── ···\n",
      "1: ──Rot(0.93,0.58,0.76)─╰X─╭●──────────────────────│───Rot(0.74,0.39,0.13)─│──╭●─────────────── ···\n",
      "2: ──Rot(0.37,0.26,0.91)────╰X─╭●───────────────────│───Rot(0.22,0.78,0.52)─╰X─│──╭●──────────── ···\n",
      "3: ──Rot(0.20,0.03,0.56)───────╰X─╭●────────────────│───Rot(0.83,0.15,0.00)────╰X─│──╭●───────── ···\n",
      "4: ──Rot(0.49,0.18,0.36)──────────╰X─╭●─────────────│───Rot(0.38,0.95,0.77)───────╰X─│──╭●────── ···\n",
      "5: ──Rot(0.60,0.51,0.00)─────────────╰X─╭●──────────│───Rot(0.03,0.94,0.74)──────────╰X─│──╭●─── ···\n",
      "6: ──Rot(0.15,0.61,0.07)────────────────╰X─╭●───────│───Rot(0.39,0.29,0.21)─────────────╰X─│──╭● ···\n",
      "7: ──Rot(0.22,0.11,0.32)───────────────────╰X─╭●────│───Rot(0.51,0.43,0.76)────────────────╰X─│─ ···\n",
      "8: ──Rot(0.51,0.37,0.10)──────────────────────╰X─╭●─│───Rot(0.30,0.88,0.07)───────────────────╰X ···\n",
      "9: ──Rot(0.33,0.56,0.32)─────────────────────────╰X─╰●──Rot(0.11,0.38,0.68)───────────────────── ···\n",
      "\n",
      "0: ··· ────╭X────┤ ╭<𝓗>\n",
      "1: ··· ────│──╭X─┤ ├<𝓗>\n",
      "2: ··· ────│──│──┤ ├<𝓗>\n",
      "3: ··· ────│──│──┤ ├<𝓗>\n",
      "4: ··· ────│──│──┤ ├<𝓗>\n",
      "5: ··· ────│──│──┤ ├<𝓗>\n",
      "6: ··· ────│──│──┤ ├<𝓗>\n",
      "7: ··· ─╭●─│──│──┤ ├<𝓗>\n",
      "8: ··· ─│──╰●─│──┤ ├<𝓗>\n",
      "9: ··· ─╰X────╰●─┤ ╰<𝓗>\n"
     ]
    }
   ],
   "source": [
    "p = 2   # circuit repetition\n",
    "\n",
    "seed = None\n",
    "rng = np.random.default_rng(seed)\n",
    "init_params = rng.random(size=(p, n, 3))\n",
    "\n",
    "print(qml.draw(cost)(init_params, n, H))"
   ]
  },
  {
   "cell_type": "code",
   "execution_count": 20,
   "id": "2a89b473",
   "metadata": {},
   "outputs": [
    {
     "name": "stdout",
     "output_type": "stream",
     "text": [
      "Cost after step     5: -63.2315112\n",
      "Cost after step    10: -109.7391657\n",
      "Cost after step    15: -167.9003474\n",
      "Cost after step    20: -384.0684499\n",
      "Cost after step    25: -403.2357127\n",
      "Cost after step    30: -403.6356317\n",
      "Cost after step    35: -403.8373565\n",
      "Cost after step    40: -403.9820331\n",
      "Cost after step    45: -404.0863497\n",
      "Cost after step    50: -404.1612579\n",
      "Cost after step    55: -404.2148769\n",
      "Cost after step    60: -404.2531691\n",
      "Cost after step    65: -404.2804708\n",
      "Cost after step    70: -404.2999136\n",
      "Cost after step    75: -404.3137483\n",
      "Cost after step    80: -404.3235865\n",
      "Cost after step    85: -404.3305799\n",
      "Cost after step    90: -404.3355495\n",
      "Cost after step    95: -404.3390802\n",
      "Cost after step   100: -404.3415883\n",
      "Cost after step   105: -404.3433697\n",
      "Cost after step   110: -404.3446350\n",
      "Cost after step   115: -404.3455335\n",
      "Cost after step   120: -404.3461716\n",
      "Cost after step   125: -404.3466248\n",
      "Cost after step   130: -404.3469466\n",
      "Cost after step   135: -404.3471751\n",
      "Cost after step   140: -404.3473374\n",
      "Cost after step   145: -404.3474526\n",
      "Cost after step   150: -404.3475345\n",
      "Cost after step   155: -404.3475926\n",
      "Cost after step   160: -404.3476338\n",
      "Cost after step   165: -404.3476631\n",
      "Cost after step   170: -404.3476839\n",
      "Cost after step   175: -404.3476987\n",
      "Cost after step   180: -404.3477092\n",
      "Cost after step   185: -404.3477166\n",
      "Cost after step   190: -404.3477219\n",
      "Cost after step   195: -404.3477257\n",
      "Cost after step   200: -404.3477283\n",
      "Cost after step   205: -404.3477302\n",
      "Cost after step   210: -404.3477316\n",
      "Cost after step   215: -404.3477325\n",
      "Cost after step   220: -404.3477332\n",
      "Cost after step   225: -404.3477337\n",
      "Cost after step   230: -404.3477340\n",
      "Cost after step   235: -404.3477343\n",
      "Cost after step   240: -404.3477345\n",
      "Cost after step   245: -404.3477346\n",
      "Cost after step   250: -404.3477347\n",
      "Cost after step   255: -404.3477347\n",
      "Optimized parameters: [[[ 8.59274183e-01  5.56836526e-16 -1.79798919e+00]\n",
      "  [ 1.37373610e-01 -8.98812609e-17  1.45497691e+00]\n",
      "  [ 7.38871969e-01 -2.37416269e-16  1.85167334e+00]\n",
      "  [ 3.63877720e-01  3.14159265e+00  9.80567281e-02]\n",
      "  [ 1.32164567e-01 -9.35372410e-18  6.07145622e-01]\n",
      "  [ 6.60316582e-01 -1.34165167e-16  4.09512309e-01]\n",
      "  [ 8.99691950e-01 -6.66249266e-18  8.28001541e-02]\n",
      "  [ 4.64194240e-01 -1.09285001e-16  5.39852187e-01]\n",
      "  [ 3.43304078e-01  3.14159265e+00 -1.15467681e-01]\n",
      "  [ 6.73036568e-01 -6.55231729e-17  4.89840393e-01]]\n",
      "\n",
      " [[ 6.19630060e-01  3.14159265e+00  1.24728544e-01]\n",
      "  [ 8.46773258e-01  6.58622015e-17  3.93879153e-02]\n",
      "  [ 1.03110728e+00  8.95805455e-17  9.71722791e-01]\n",
      "  [ 9.72445303e-01  7.82218237e-17  2.54356875e-01]\n",
      "  [ 1.23076128e-01  7.85360642e-17  5.93765915e-01]\n",
      "  [ 7.79987035e-01  1.16734432e-16  1.83184930e-01]\n",
      "  [ 3.14233787e-01  7.26839253e-17  8.04864419e-01]\n",
      "  [ 1.14697280e-01 -1.60958741e-16  6.44805693e-01]\n",
      "  [ 5.46042989e-01  1.89590499e-04 -8.92230836e-02]\n",
      "  [ 7.41392242e-01  1.78251343e-16  5.69463921e-01]]]\n",
      "Optimized objective function value: -404.34773472800754\n"
     ]
    }
   ],
   "source": [
    "p = 2   # circuit repetition\n",
    "\n",
    "learning_rate = 0.001\n",
    "opt = qml.QNGOptimizer(stepsize=learning_rate)\n",
    "\n",
    "max_steps = 1000\n",
    "print_multiplier = 5\n",
    "\n",
    "seed = None\n",
    "rng = np.random.default_rng(seed)\n",
    "params = rng.random(size=(p, n, 3))\n",
    "\n",
    "old_cost = 9_999.\n",
    "cost_func_history = []\n",
    "for i in range(max_steps):\n",
    "  params = opt.step(cost, params, n, H)[0]\n",
    "  obj_value = cost(params, n, H)\n",
    "  cost_func_history.append(obj_value)\n",
    "\n",
    "  if (i + 1) % print_multiplier == 0:\n",
    "    print(f\"Cost after step {i+1:5d}: {obj_value: .7f}\")\n",
    "\n",
    "    if np.round(old_cost, 7) == np.round(obj_value, 7):\n",
    "      break\n",
    "    else:\n",
    "      old_cost = obj_value\n",
    "\n",
    "print(f\"Optimized parameters: {params}\")\n",
    "print(f\"Optimized objective function value: {obj_value}\")"
   ]
  },
  {
   "cell_type": "code",
   "execution_count": 21,
   "id": "65782786",
   "metadata": {},
   "outputs": [
    {
     "data": {
      "image/png": "[encoded data removed]",
      "text/plain": [
       "<Figure size 640x480 with 1 Axes>"
      ]
     },
     "metadata": {},
     "output_type": "display_data"
    }
   ],
   "source": [
    "fig, ax = plt.subplots()\n",
    "\n",
    "ax.plot(cost_func_history)\n",
    "ax.grid(\"on\")\n",
    "\n",
    "ax.set_ylabel(r\"cost func. $E(\\theta)$\")\n",
    "ax.set_xlabel(\"iteration\")\n",
    "plt.show(fig)"
   ]
  },
  {
   "cell_type": "markdown",
   "id": "b33ac00e",
   "metadata": {},
   "source": [
    "Check the exact ground state solution"
   ]
  },
  {
   "cell_type": "code",
   "execution_count": 22,
   "id": "27f92e48",
   "metadata": {},
   "outputs": [
    {
     "name": "stdout",
     "output_type": "stream",
     "text": [
      "Exact solution: (1, 1, 1, 1, 0, 0, 1, 1, 1, 1)\n"
     ]
    }
   ],
   "source": [
    "all_combinations = itertools.product([0, 1], repeat=n)\n",
    "\n",
    "exact_E_g = 9_999.\n",
    "for exact_x in all_combinations:\n",
    "  exact_E = sum(gamma_arr[i]*exact_x[i] for i in range(n)) \\\n",
    "    + 0.5*(sum((alpha_arr[i]*exact_x[i])**2 for i in range(n))\n",
    "           + 2.*sum(alpha_arr[i]*exact_x[i]*alpha_arr[j]*exact_x[j]\n",
    "                    for i in range(n) for j in range(i+1, n))) \n",
    "  if exact_E < exact_E_g:\n",
    "    exact_E_g = exact_E\n",
    "    exact_sol = exact_x\n",
    "\n",
    "print(f\"Exact solution: {exact_sol}\")"
   ]
  },
  {
   "cell_type": "code",
   "execution_count": 23,
   "id": "de7b3bb5",
   "metadata": {},
   "outputs": [
    {
     "name": "stdout",
     "output_type": "stream",
     "text": [
      "Final solution : 111001111, with prob=1.00000\n"
     ]
    },
    {
     "data": {
      "image/png": "[encoded data removed]",
      "text/plain": [
       "<Figure size 1000x400 with 1 Axes>"
      ]
     },
     "metadata": {},
     "output_type": "display_data"
    }
   ],
   "source": [
    "probs = probability_circuit(params, n)\n",
    "print(\"Final solution : {:06b}, with prob={:.5f}\".format(np.argmax(probs), max(probs)))\n",
    "\n",
    "fig, ax = plt.subplots(figsize=(10, 4))\n",
    "\n",
    "ax.bar(range(2 ** len(range(n))), probs, width=4)\n",
    "ax.grid(\"on\")\n",
    "\n",
    "ax.set_ylabel(\"probs.\")\n",
    "ax.set_xlabel(r\"$|n\\rangle$ state\")\n",
    "\n",
    "ax.axvline(500, c=\"r\", linewidth=2)\n",
    "\n",
    "plt.show(fig)"
   ]
  },
  {
   "cell_type": "code",
   "execution_count": 14,
   "id": "9517cce3",
   "metadata": {},
   "outputs": [
    {
     "name": "stdout",
     "output_type": "stream",
     "text": [
      "[]\n"
     ]
    }
   ],
   "source": [
    "threshold = 0.15\n",
    "idx_sol = np.argwhere(probs > threshold)\n",
    "print(idx_sol)\n",
    "\n",
    "for sol in idx_sol:\n",
    "  print(f\"{sol[0]:010b}\")"
   ]
  }
 ],
 "metadata": {
  "kernelspec": {
   "display_name": "womanium2025project",
   "language": "python",
   "name": "python3"
  },
  "language_info": {
   "codemirror_mode": {
    "name": "ipython",
    "version": 3
   },
   "file_extension": ".py",
   "mimetype": "text/x-python",
   "name": "python",
   "nbconvert_exporter": "python",
   "pygments_lexer": "ipython3",
   "version": "3.12.11"
  }
 },
 "nbformat": 4,
 "nbformat_minor": 5
}
