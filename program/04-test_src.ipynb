{
 "cells": [
  {
   "cell_type": "markdown",
   "id": "171d2888",
   "metadata": {},
   "source": [
    "Logs  \n",
    "- [2025/08/08]   \n",
    "  Use `vanguardDataset` conda environment"
   ]
  },
  {
   "cell_type": "markdown",
   "id": "9bb6debc",
   "metadata": {},
   "source": [
    "**requirements**\n",
    "\n",
    "```\n",
    "python==3.12.11\n",
    "ipykernel==6.30.1\n",
    "qiskit==1.3.1\n",
    "qiskit-ibm-runtime==0.34.0\n",
    "qiskit-serverless==0.18.1\n",
    "docplex\n",
    "cplex\n",
    "qiskit-aer\n",
    "numba\n",
    "qiskit-ibm-catalog\n",
    "```"
   ]
  },
  {
   "cell_type": "markdown",
   "id": "63f2f3d0",
   "metadata": {},
   "source": [
    "Exploring `/src/step_1.py`"
   ]
  },
  {
   "cell_type": "code",
   "execution_count": 5,
   "id": "f5a38b56",
   "metadata": {},
   "outputs": [],
   "source": [
    "from docplex.mp.model_reader import ModelReader\n",
    "from src.step_1 import model_to_obj_dense"
   ]
  },
  {
   "cell_type": "code",
   "execution_count": 6,
   "id": "29b18df4",
   "metadata": {},
   "outputs": [],
   "source": [
    "lp_file_path = \"./data/1/31bonds/docplex-bin-avgonly-nocplexvars.lp\"\n",
    "\n",
    "model = ModelReader.read(lp_file_path)"
   ]
  },
  {
   "cell_type": "code",
   "execution_count": 7,
   "id": "13df1ea9",
   "metadata": {},
   "outputs": [
    {
     "data": {
      "text/plain": [
       "docplex.mp.model.Model"
      ]
     },
     "execution_count": 7,
     "metadata": {},
     "output_type": "execute_result"
    }
   ],
   "source": [
    "type(model)"
   ]
  },
  {
   "cell_type": "code",
   "execution_count": 9,
   "id": "528a1c26",
   "metadata": {},
   "outputs": [
    {
     "name": "stdout",
     "output_type": "stream",
     "text": [
      "31 15\n"
     ]
    },
    {
     "data": {
      "text/plain": [
       "CPUDispatcher(<function model_to_obj_dense.<locals>.obj_fn_embedding_constraints at 0x7fcef28a3600>)"
      ]
     },
     "execution_count": 9,
     "metadata": {},
     "output_type": "execute_result"
    }
   ],
   "source": [
    "model_obj_dense = model_to_obj_dense(model)\n",
    "model_obj_dense"
   ]
  },
  {
   "cell_type": "markdown",
   "id": "7203a3ae",
   "metadata": {},
   "source": [
    "## Notes"
   ]
  },
  {
   "cell_type": "markdown",
   "id": "f0d78dfb",
   "metadata": {},
   "source": [
    "### `./_experiments/sbo_steps1to3.py`"
   ]
  },
  {
   "cell_type": "markdown",
   "id": "0b0f508c",
   "metadata": {},
   "source": [
    "To run `./_experiments/sbo_steps1to3.py`, you\n",
    "need to rename `./data/1/31bonds/TwoLocal1rep_piby3_AerSimulator_0.1_0.pkl`\n",
    "into  \n",
    "`./data/1/31bonds/TwoLocal1rep_piby3_AerSimulator_0.1.pkl`\n",
    "\n",
    "This will call the settings from `doe.py` with that filename."
   ]
  },
  {
   "cell_type": "markdown",
   "id": "dd1299b4",
   "metadata": {},
   "source": [
    "This file will run for almost an hour 10*248 * 1 sec/.pkl file \n",
    "= 2,480 secs"
   ]
  },
  {
   "cell_type": "markdown",
   "id": "c5adea53",
   "metadata": {},
   "source": [
    "### `./_experiments/sbo_step4.py`"
   ]
  },
  {
   "cell_type": "markdown",
   "id": "8f834e8d",
   "metadata": {},
   "source": [
    "Edit the variable `doe` and `experiments` in `./_experiments/sbo_step4.py`. We use `doe = doe_localsearch[\"fast\"]` because \n",
    "`doe_localsearch[\"unconstrained\"]` is not available in \n",
    "`doe_localsearch.py`.\n",
    "\n",
    "Then, we set `experiments` to the output of `sbo_steps1to3.py`\n",
    "`./data/1/31bonds/TwoLocal1rep_piby3_AerSimulator_0.1`"
   ]
  },
  {
   "cell_type": "markdown",
   "id": "1a66070f",
   "metadata": {},
   "source": []
  }
 ],
 "metadata": {
  "kernelspec": {
   "display_name": "vanguardDataset",
   "language": "python",
   "name": "python3"
  },
  "language_info": {
   "codemirror_mode": {
    "name": "ipython",
    "version": 3
   },
   "file_extension": ".py",
   "mimetype": "text/x-python",
   "name": "python",
   "nbconvert_exporter": "python",
   "pygments_lexer": "ipython3",
   "version": "3.12.11"
  }
 },
 "nbformat": 4,
 "nbformat_minor": 5
}
