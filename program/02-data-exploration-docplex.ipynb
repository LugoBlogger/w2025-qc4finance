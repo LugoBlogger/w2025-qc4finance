{
 "cells": [
  {
   "cell_type": "markdown",
   "id": "3fd9cd1a",
   "metadata": {},
   "source": [
    "Logs \n",
    "- [2025/08/06]"
   ]
  },
  {
   "cell_type": "markdown",
   "id": "92aea478",
   "metadata": {},
   "source": [
    "**References**\n",
    "\n",
    "- [DOcplex documentation](https://ibmdecisionoptimization.github.io/docplex-doc/)"
   ]
  },
  {
   "cell_type": "code",
   "execution_count": null,
   "id": "58ce6554",
   "metadata": {},
   "outputs": [],
   "source": []
  },
  {
   "cell_type": "code",
   "execution_count": null,
   "id": "3b0c64b7",
   "metadata": {},
   "outputs": [],
   "source": []
  }
 ],
 "metadata": {
  "kernelspec": {
   "display_name": "womanium2025project",
   "language": "python",
   "name": "python3"
  },
  "language_info": {
   "name": "python",
   "version": "3.12.11"
  }
 },
 "nbformat": 4,
 "nbformat_minor": 5
}
